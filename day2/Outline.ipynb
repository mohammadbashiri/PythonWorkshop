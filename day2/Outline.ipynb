{
 "cells": [
  {
   "cell_type": "markdown",
   "metadata": {},
   "source": [
    "# Day 2"
   ]
  },
  {
   "cell_type": "markdown",
   "metadata": {},
   "source": [
    "## Morning"
   ]
  },
  {
   "cell_type": "markdown",
   "metadata": {},
   "source": [
    "- review of previous day\n",
    "- numpy multidimensional arrays\n",
    "- working with images using the following packages:\n",
    "    - ndimage\n",
    "    - \n",
    "- exporting jupyter lab: this section has two purpose:\n",
    "    - how to export your notebook and share it with others\n",
    "    - how to transfer your notebook into a script and a pipeline\n",
    "- writing scripts"
   ]
  },
  {
   "cell_type": "markdown",
   "metadata": {},
   "source": [
    "## Afternoon"
   ]
  },
  {
   "cell_type": "markdown",
   "metadata": {},
   "source": [
    "- how to interact (and debug) your script\n",
    "    - jupyter lab script-console interaction\n",
    "    - %run in ipython\n",
    "    - using python debugger (pdb)\n",
    "- functions\n",
    "- Pandas\n",
    "- Seaborn"
   ]
  },
  {
   "cell_type": "code",
   "execution_count": null,
   "metadata": {},
   "outputs": [],
   "source": []
  }
 ],
 "metadata": {
  "kernelspec": {
   "display_name": "Python 3",
   "language": "python",
   "name": "python3"
  },
  "language_info": {
   "codemirror_mode": {
    "name": "ipython",
    "version": 3
   },
   "file_extension": ".py",
   "mimetype": "text/x-python",
   "name": "python",
   "nbconvert_exporter": "python",
   "pygments_lexer": "ipython3",
   "version": "3.5.5"
  }
 },
 "nbformat": 4,
 "nbformat_minor": 2
}
