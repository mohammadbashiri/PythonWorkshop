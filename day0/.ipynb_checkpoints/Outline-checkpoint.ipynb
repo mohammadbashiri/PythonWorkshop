{
 "cells": [
  {
   "cell_type": "markdown",
   "metadata": {},
   "source": [
    "# Day 0"
   ]
  },
  {
   "cell_type": "markdown",
   "metadata": {},
   "source": [
    "## Morning Session"
   ]
  },
  {
   "cell_type": "markdown",
   "metadata": {},
   "source": [
    "- Going through a brief introduction about the course mentioning what is trying to achieve and what is not a goal of this course\n",
    "- Make sure python is installed on computers: by running command prompt and typing python on it\n",
    "    - if not, check system variables, and make sure that we have the following folders in the system variable path:\n",
    "        - anaconda3\n",
    "        - anaconda3\\Scripts\n",
    "        - anaconda3\\Library\\bin\n",
    "- make sure users are \n",
    "- then create a python script and run it from the command prompt\n",
    "- then talk about interactive python (ipython)\n",
    "- an exerice: turtle\n",
    "    - how to import\n",
    "    - how to get an idea about a package by tab completion\n",
    "    - how to get help (? or help()), as well as python documentaiton  \n",
    "- Talking about different pieces of the code:\n",
    "    - importing libraries (also maybe how to install)\n",
    "    - namespace collision: having a name for an object which is similar to the package name\n",
    "    - namespace: is an area where all the possible names could be\n",
    "- Exercise to explore how to work with python objects: this exercise contains some string examples\n",
    "    - helps them get a feeling of how to work with python objects\n",
    "    "
   ]
  },
  {
   "cell_type": "markdown",
   "metadata": {},
   "source": [
    "### Absolute filepath vs relative filepath"
   ]
  },
  {
   "cell_type": "markdown",
   "metadata": {},
   "source": [
    "**Absolute filepath**: tell you where a file is exactly <br>\n",
    "**Relative filepath**: tell you where a file is relative to the current path "
   ]
  },
  {
   "cell_type": "markdown",
   "metadata": {},
   "source": [
    "## Afternoon Session"
   ]
  },
  {
   "cell_type": "markdown",
   "metadata": {},
   "source": [
    "Using the ipython interface\n",
    "\n",
    "* python data types\n",
    "    - string\n",
    "    - list\n",
    "* python built-in functions\n",
    "* math operations, on different datatypes\n",
    "* Indexing with lists\n",
    "* for loops, using the list we just made\n",
    "* review of the day"
   ]
  },
  {
   "cell_type": "markdown",
   "metadata": {},
   "source": [
    "---"
   ]
  },
  {
   "cell_type": "markdown",
   "metadata": {},
   "source": [
    "## Points to remember for any workshop?"
   ]
  },
  {
   "cell_type": "markdown",
   "metadata": {},
   "source": [
    "- Users are using different operating systems"
   ]
  }
 ],
 "metadata": {
  "kernelspec": {
   "display_name": "Python 3",
   "language": "python",
   "name": "python3"
  },
  "language_info": {
   "codemirror_mode": {
    "name": "ipython",
    "version": 3
   },
   "file_extension": ".py",
   "mimetype": "text/x-python",
   "name": "python",
   "nbconvert_exporter": "python",
   "pygments_lexer": "ipython3",
   "version": "3.5.5"
  }
 },
 "nbformat": 4,
 "nbformat_minor": 2
}
