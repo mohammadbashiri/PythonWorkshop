{
 "cells": [
  {
   "cell_type": "markdown",
   "metadata": {},
   "source": [
    "# Part V: Packaging and Distribution"
   ]
  },
  {
   "cell_type": "markdown",
   "metadata": {},
   "source": [
    "In this part we will learn about Python packaging and the varous methods to distribute the code (tool) we created. More specifically, we learn about the following:\n",
    "\n",
    "- How to create a module and package\n",
    "- Create documemtation for for your package (readthedocs.org)\n",
    "- Publishing your package to the Python Packaging Index (PyPI)\n",
    "\n",
    "Taking it further:\n",
    "- Create a command-line interface for your package"
   ]
  },
  {
   "cell_type": "markdown",
   "metadata": {},
   "source": [
    "## How to create a module and package"
   ]
  },
  {
   "cell_type": "markdown",
   "metadata": {},
   "source": [
    "Here goes a bit of introduction"
   ]
  },
  {
   "cell_type": "markdown",
   "metadata": {},
   "source": [
    "### Libraries"
   ]
  },
  {
   "cell_type": "markdown",
   "metadata": {},
   "source": [
    "You do not need a library for this purpose"
   ]
  },
  {
   "cell_type": "markdown",
   "metadata": {},
   "source": [
    "## Create documentation for your package (readthedocs.org)"
   ]
  },
  {
   "cell_type": "markdown",
   "metadata": {},
   "source": [
    "A bit of introduction"
   ]
  },
  {
   "cell_type": "markdown",
   "metadata": {},
   "source": [
    "### Libraries"
   ]
  },
  {
   "cell_type": "markdown",
   "metadata": {},
   "source": [
    "- sphinx"
   ]
  },
  {
   "cell_type": "markdown",
   "metadata": {},
   "source": [
    "Sphinx is a tool that makes it easy to create intelligent and beautiful documentation, written by Georg Brandl and licensed under the BSD license. Sphinx uses reStructuredText as its markup language, and many of its strengths come from the power and straightforwardness of reStructuredText and its parsing and translating suite. \n",
    "\n",
    "Links to documentation generated with Sphinx can be found on the Projects using Sphinx page."
   ]
  },
  {
   "cell_type": "markdown",
   "metadata": {},
   "source": [
    "### How to do it?"
   ]
  },
  {
   "cell_type": "markdown",
   "metadata": {},
   "source": [
    "- In the project root directory, create a direcotry called *docs*\n",
    "- Open the cmd (or terminal) and activate the python environment for your project, and install sphinx python package:\n",
    "\n",
    "```\n",
    "    pip install sphinx\n",
    "```\n",
    "\n",
    "- Go to the *docs* directory and type:\n",
    "\n",
    "``` \n",
    "    sphinx-quickstart\n",
    "```\n",
    "\n",
    "    Stick to the difault for all the options except for:\n",
    "    \n",
    "    - autodic: y\n",
    "    - Makefile: y\n",
    "    - viewcode: y\n",
    "- finally, to be able to see your documentation, in html form, locally, type:\n",
    "\n",
    "```\n",
    "    make html\n",
    "```\n",
    "\n",
    "- Edit *conf.py*, make sure the following is added at the top\n",
    "\n",
    "```python\n",
    "    import os\n",
    "    import sys\n",
    "    sys.path: sys.path.insert(0, os.path.abspath('../'))\n",
    "```\n",
    "\n",
    "- Execute \n",
    "\n",
    "```\n",
    "    sphinx-apidoc -o . ..\n",
    "```\n",
    "\n",
    "- View your documentation, using your favorite browser, by going to the *docs\\_build\\html* and clicking on *index.html*\n",
    "\n",
    "In case you made some changes and the html is not as you expect, clean the *build* folder and then make the html again:\n",
    "\n",
    "```\n",
    "    make clean\n",
    "    make html\n",
    "```\n",
    "---"
   ]
  },
  {
   "cell_type": "markdown",
   "metadata": {},
   "source": [
    "At this point, you already have a documentation. **But** how do we take control over the structure of our documentation?"
   ]
  },
  {
   "cell_type": "markdown",
   "metadata": {},
   "source": [
    "### Structuring the documentation"
   ]
  },
  {
   "cell_type": "markdown",
   "metadata": {},
   "source": [
    "### Handling changes"
   ]
  },
  {
   "cell_type": "markdown",
   "metadata": {},
   "source": [
    "Let us assume after creating the documentation, you decided to remove a module from your code. What happends then?\n",
    "\n",
    "Well, you simply need to make sure, you removed the calls to the removed module any where in yout package. The simply do a *make clean* and then *make html*, and you are good to go!"
   ]
  },
  {
   "cell_type": "markdown",
   "metadata": {},
   "source": [
    "## Publishing your package to the Python Packaging Index (PyPI)"
   ]
  },
  {
   "cell_type": "code",
   "execution_count": null,
   "metadata": {},
   "outputs": [],
   "source": []
  },
  {
   "cell_type": "markdown",
   "metadata": {},
   "source": [
    "## Create a command-line interface for your package"
   ]
  },
  {
   "cell_type": "markdown",
   "metadata": {},
   "source": [
    "[Introduction]"
   ]
  },
  {
   "cell_type": "markdown",
   "metadata": {},
   "source": [
    "### Libraries"
   ]
  },
  {
   "cell_type": "markdown",
   "metadata": {},
   "source": [
    "- click"
   ]
  }
 ],
 "metadata": {
  "kernelspec": {
   "display_name": "Python 3",
   "language": "python",
   "name": "python3"
  },
  "language_info": {
   "codemirror_mode": {
    "name": "ipython",
    "version": 3
   },
   "file_extension": ".py",
   "mimetype": "text/x-python",
   "name": "python",
   "nbconvert_exporter": "python",
   "pygments_lexer": "ipython3",
   "version": "3.5.5"
  }
 },
 "nbformat": 4,
 "nbformat_minor": 2
}
