{
 "cells": [
  {
   "cell_type": "markdown",
   "metadata": {},
   "source": [
    "# Day 1"
   ]
  },
  {
   "cell_type": "markdown",
   "metadata": {},
   "source": [
    "## Morning"
   ]
  },
  {
   "cell_type": "markdown",
   "metadata": {},
   "source": [
    "- review if day0\n",
    "- talking a bit more about for loops and good practices in doing them:\n",
    "    - using zip\n",
    "    - using numerate\n",
    "- introducing numpy and 1D arrays\n",
    "- booleans and if statement"
   ]
  },
  {
   "cell_type": "markdown",
   "metadata": {},
   "source": [
    "## Afternoon"
   ]
  },
  {
   "cell_type": "markdown",
   "metadata": {},
   "source": [
    "- intorducing matplotlib\n",
    "    - how to plot something\n",
    "    - how to change style\n",
    "    - subplots\n",
    "- group activity\n",
    "    - discussion 20 min\n",
    "    - individual prgramming 15 min\n",
    "    - pair programming 20 min\n",
    "    - presentation 10 min\n",
    "    - discussion about this whole process 30 min"
   ]
  },
  {
   "cell_type": "markdown",
   "metadata": {},
   "source": [
    "---"
   ]
  },
  {
   "cell_type": "markdown",
   "metadata": {},
   "source": [
    "## Some points"
   ]
  },
  {
   "cell_type": "code",
   "execution_count": null,
   "metadata": {},
   "outputs": [],
   "source": []
  }
 ],
 "metadata": {
  "kernelspec": {
   "display_name": "Python 3",
   "language": "python",
   "name": "python3"
  },
  "language_info": {
   "codemirror_mode": {
    "name": "ipython",
    "version": 3
   },
   "file_extension": ".py",
   "mimetype": "text/x-python",
   "name": "python",
   "nbconvert_exporter": "python",
   "pygments_lexer": "ipython3",
   "version": "3.5.5"
  }
 },
 "nbformat": 4,
 "nbformat_minor": 2
}
